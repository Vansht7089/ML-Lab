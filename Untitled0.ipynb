{
  "nbformat": 4,
  "nbformat_minor": 0,
  "metadata": {
    "colab": {
      "provenance": [],
      "authorship_tag": "ABX9TyOQUbt3YiC6jHd/ruXllUQr",
      "include_colab_link": true
    },
    "kernelspec": {
      "name": "python3",
      "display_name": "Python 3"
    },
    "language_info": {
      "name": "python"
    }
  },
  "cells": [
    {
      "cell_type": "markdown",
      "metadata": {
        "id": "view-in-github",
        "colab_type": "text"
      },
      "source": [
        "<a href=\"https://colab.research.google.com/github/Vansht7089/ML-Lab/blob/main/Untitled0.ipynb\" target=\"_parent\"><img src=\"https://colab.research.google.com/assets/colab-badge.svg\" alt=\"Open In Colab\"/></a>"
      ]
    },
    {
      "cell_type": "code",
      "execution_count": null,
      "metadata": {
        "colab": {
          "base_uri": "https://localhost:8080/"
        },
        "id": "Dkd6lm_jBP16",
        "outputId": "7b02d823-7369-4c05-c153-0df303ae6499"
      },
      "outputs": [
        {
          "output_type": "stream",
          "name": "stdout",
          "text": [
            "1234567\n"
          ]
        }
      ],
      "source": [
        "my_int = 1234567\n",
        "\n",
        "print(my_int)"
      ]
    },
    {
      "cell_type": "code",
      "source": [],
      "metadata": {
        "id": "ap2uclqkKXbv"
      },
      "execution_count": null,
      "outputs": []
    },
    {
      "cell_type": "code",
      "source": [
        "num = int(input(\"Enter the number to print its table: \"))\n",
        "for i in range (1,11):\n",
        "  print(num, \"x\",i,\"=\",num*1)\n",
        "\n"
      ],
      "metadata": {
        "colab": {
          "base_uri": "https://localhost:8080/"
        },
        "id": "ZeTwbbxJCKyo",
        "outputId": "2086925d-8d0b-472c-9b84-05cd14474b00"
      },
      "execution_count": null,
      "outputs": [
        {
          "output_type": "stream",
          "name": "stdout",
          "text": [
            "Enter the number to print its table: 5\n",
            "5 x 1 = 5\n",
            "5 x 2 = 5\n",
            "5 x 3 = 5\n",
            "5 x 4 = 5\n",
            "5 x 5 = 5\n",
            "5 x 6 = 5\n",
            "5 x 7 = 5\n",
            "5 x 8 = 5\n",
            "5 x 9 = 5\n",
            "5 x 10 = 5\n"
          ]
        }
      ]
    },
    {
      "cell_type": "code",
      "source": [
        "fruits = [\"Apple\",\"Banana\",\"Pineapple\",\"Papaya\",\"Orange\"]\n",
        "OddL = []\n",
        "newL = []\n",
        "for i in fruits :\n",
        "  if 'p' in 1:\n",
        "    newL.append(i)\n",
        "    else :\n",
        "      OddL.append(i)\n",
        "      print(\"fruits is : \",fruits)\n",
        "      print(\"newL is : \",newL)\n",
        "      print(\"OddL is : \",OddL)"
      ],
      "metadata": {
        "colab": {
          "base_uri": "https://localhost:8080/",
          "height": 140
        },
        "id": "CjtU7yUNFar3",
        "outputId": "8668b63f-1134-4ac8-9ff9-45d4bfcb6b25"
      },
      "execution_count": null,
      "outputs": [
        {
          "output_type": "error",
          "ename": "SyntaxError",
          "evalue": "invalid syntax (<ipython-input-13-c5be36e3c462>, line 7)",
          "traceback": [
            "\u001b[0;36m  File \u001b[0;32m\"<ipython-input-13-c5be36e3c462>\"\u001b[0;36m, line \u001b[0;32m7\u001b[0m\n\u001b[0;31m    else :\u001b[0m\n\u001b[0m    ^\u001b[0m\n\u001b[0;31mSyntaxError\u001b[0m\u001b[0;31m:\u001b[0m invalid syntax\n"
          ]
        }
      ]
    },
    {
      "cell_type": "code",
      "source": [],
      "metadata": {
        "id": "ckSkKp_HIpHW"
      },
      "execution_count": null,
      "outputs": []
    },
    {
      "cell_type": "code",
      "source": [
        "l= [\"indore\",\"rajgad\",\"dewas\",\"patna\",\"ujjain\"]\n",
        "print(l)\n",
        "l.append(\"dewas\")\n",
        "print(l)\n",
        "newlist=[]\n",
        "for x in l:\n",
        "  newlist.append(x)\n",
        "  print(newlist)"
      ],
      "metadata": {
        "colab": {
          "base_uri": "https://localhost:8080/"
        },
        "id": "NhJAX12mHqcR",
        "outputId": "58c635c3-4bba-4627-c147-21f821662929"
      },
      "execution_count": null,
      "outputs": [
        {
          "output_type": "stream",
          "name": "stdout",
          "text": [
            "['indore', 'rajgad', 'dewas', 'patna', 'ujjain']\n",
            "['indore', 'rajgad', 'dewas', 'patna', 'ujjain', 'dewas']\n",
            "['indore']\n",
            "['indore', 'rajgad']\n",
            "['indore', 'rajgad', 'dewas']\n",
            "['indore', 'rajgad', 'dewas', 'patna']\n",
            "['indore', 'rajgad', 'dewas', 'patna', 'ujjain']\n",
            "['indore', 'rajgad', 'dewas', 'patna', 'ujjain', 'dewas']\n"
          ]
        }
      ]
    },
    {
      "cell_type": "code",
      "source": [
        "marks = (9,12,4,15)\n",
        "print(marks[1:4])\n",
        "print(marks[:4])\n",
        "print(marks[::-1])\n",
        "print(marks[:-2])"
      ],
      "metadata": {
        "colab": {
          "base_uri": "https://localhost:8080/"
        },
        "id": "Od0rBnseJR9R",
        "outputId": "ed2d658c-fb76-435e-9e39-4958be03b2ef"
      },
      "execution_count": null,
      "outputs": [
        {
          "output_type": "stream",
          "name": "stdout",
          "text": [
            "(12, 4, 15)\n",
            "(9, 12, 4, 15)\n",
            "(15, 4, 12, 9)\n",
            "(9, 12)\n"
          ]
        }
      ]
    },
    {
      "cell_type": "code",
      "source": [
        "Name = \"Umesh Yadav\"\n",
        "print(Name)\n",
        "firstName = Name[:8]\n",
        "lastName = Name[9:]\n",
        "print(\"Hello Mr.{} {}\".format(firstName,lastName))"
      ],
      "metadata": {
        "colab": {
          "base_uri": "https://localhost:8080/"
        },
        "id": "_Fdp12lgKYs2",
        "outputId": "ff4c7c61-672e-4110-b02b-83b5a86e6898"
      },
      "execution_count": null,
      "outputs": [
        {
          "output_type": "stream",
          "name": "stdout",
          "text": [
            "Umesh Yadav\n",
            "Hello Mr.Umesh Ya av\n"
          ]
        }
      ]
    }
  ]
}